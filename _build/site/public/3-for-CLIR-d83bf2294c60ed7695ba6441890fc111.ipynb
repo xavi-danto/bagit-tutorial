{
 "cells": [
  {
   "cell_type": "markdown",
   "id": "61c2d47b",
   "metadata": {},
   "source": [
    "Now we're talking about how this is relevent for grant funding, such as the [CLIR Recordings at Risk grant](xref:CLIR#subfigure)."
   ]
  }
 ],
 "metadata": {
  "language_info": {
   "name": "python"
  }
 },
 "nbformat": 4,
 "nbformat_minor": 5
}
