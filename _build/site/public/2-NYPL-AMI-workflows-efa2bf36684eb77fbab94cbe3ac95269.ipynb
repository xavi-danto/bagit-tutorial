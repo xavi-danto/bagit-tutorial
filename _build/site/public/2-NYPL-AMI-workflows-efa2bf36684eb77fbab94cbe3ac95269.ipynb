{
 "cells": [
  {
   "cell_type": "markdown",
   "id": "5495efe7",
   "metadata": {},
   "source": [
    "We will be investigating [this](https://github.com/NYPL/ami-preservation/tree/main/ami_scripts)."
   ]
  }
 ],
 "metadata": {
  "language_info": {
   "name": "python"
  }
 },
 "nbformat": 4,
 "nbformat_minor": 5
}
