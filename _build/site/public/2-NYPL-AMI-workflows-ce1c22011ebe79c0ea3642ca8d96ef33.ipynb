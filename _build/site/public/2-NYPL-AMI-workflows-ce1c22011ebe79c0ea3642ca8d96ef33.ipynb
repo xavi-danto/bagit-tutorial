{
 "cells": [
  {
   "cell_type": "markdown",
   "id": "5495efe7",
   "metadata": {},
   "source": [
    "We will be investigating [this](hxref:NYPL#subfigure)."
   ]
  }
 ],
 "metadata": {
  "language_info": {
   "name": "python"
  }
 },
 "nbformat": 4,
 "nbformat_minor": 5
}
