{
 "cells": [
  {
   "cell_type": "markdown",
   "id": "61c2d47b",
   "metadata": {},
   "source": [
    "Now we're talking about how this is relevent for grant funding, such as the [CLIR Recordings at Risk grant](https://www.clir.org/recordings-at-risk/)."
   ]
  }
 ],
 "metadata": {
  "language_info": {
   "name": "python"
  }
 },
 "nbformat": 4,
 "nbformat_minor": 5
}
