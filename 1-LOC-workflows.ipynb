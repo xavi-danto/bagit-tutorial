{
 "cells": [
  {
   "cell_type": "markdown",
   "id": "23f2b426",
   "metadata": {},
   "source": [
    "We will start [here](xref:LOC#subfigure)."
   ]
  }
 ],
 "metadata": {
  "language_info": {
   "name": "python"
  }
 },
 "nbformat": 4,
 "nbformat_minor": 5
}
